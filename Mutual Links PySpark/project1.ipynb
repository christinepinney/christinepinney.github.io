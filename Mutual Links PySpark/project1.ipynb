{
 "cells": [
  {
   "cell_type": "code",
   "execution_count": 1,
   "id": "6899c21c",
   "metadata": {},
   "outputs": [],
   "source": [
    "import pyspark\n",
    "from pyspark.sql import (\n",
    "    SparkSession,\n",
    "    functions as F,\n",
    "    types as T\n",
    ")\n",
    "from pyspark.storagelevel import StorageLevel"
   ]
  },
  {
   "cell_type": "code",
   "execution_count": 2,
   "id": "58fc8474",
   "metadata": {},
   "outputs": [],
   "source": [
    "spark = (\n",
    "    SparkSession.builder\n",
    "    .remote('sc://localhost:15002')\n",
    "    .appName(\"testing_app\")\n",
    "    .getOrCreate()\n",
    ")"
   ]
  },
  {
   "cell_type": "code",
   "execution_count": 13,
   "id": "f89e21ad",
   "metadata": {},
   "outputs": [],
   "source": [
    "(\n",
    "    spark.read\n",
    "    .parquet(\"s3://cpinney/p1/output/part-00004-b5bc2265-a632-4d9d-853f-93b4744a939d-c000.snappy.parquet\")\n",
    "    .createOrReplaceTempView(\"output1\")\n",
    ")\n",
    "\n",
    "(\n",
    "    spark.read\n",
    "    .parquet(\"s3://cpinney/p1/output/part-00003-b5bc2265-a632-4d9d-853f-93b4744a939d-c000.snappy.parquet\")\n",
    "    .createOrReplaceTempView(\"output2\")\n",
    ")\n",
    "\n",
    "(\n",
    "    spark.read\n",
    "    .parquet(\"s3://cpinney/p1/output/part-00002-b5bc2265-a632-4d9d-853f-93b4744a939d-c000.snappy.parquet\")\n",
    "    .createOrReplaceTempView(\"output3\")\n",
    ")\n",
    "\n",
    "(\n",
    "    spark.read\n",
    "    .parquet(\"s3://cpinney/p1/output/part-00001-b5bc2265-a632-4d9d-853f-93b4744a939d-c000.snappy.parquet\")\n",
    "    .createOrReplaceTempView(\"output4\")\n",
    ")\n",
    "\n",
    "(\n",
    "    spark.read\n",
    "    .parquet(\"s3://cpinney/p1/output/part-00000-b5bc2265-a632-4d9d-853f-93b4744a939d-c000.snappy.parquet\")\n",
    "    .createOrReplaceTempView(\"output5\")\n",
    ")"
   ]
  },
  {
   "cell_type": "code",
   "execution_count": 14,
   "id": "dc76e0f3",
   "metadata": {},
   "outputs": [],
   "source": [
    "spark.table(\"output1\").union(spark.table(\"output2\")).createOrReplaceTempView(\"o\")\n",
    "spark.table(\"output3\").union(spark.table(\"output4\")).createOrReplaceTempView(\"u\")\n",
    "spark.table(\"o\").union(spark.table(\"u\")).createOrReplaceTempView(\"t\")\n",
    "spark.table(\"t\").union(spark.table(\"output5\")).createOrReplaceTempView(\"yay\")"
   ]
  },
  {
   "cell_type": "code",
   "execution_count": 15,
   "id": "3c24f4f1",
   "metadata": {},
   "outputs": [
    {
     "data": {
      "text/plain": [
       "192093553"
      ]
     },
     "execution_count": 15,
     "metadata": {},
     "output_type": "execute_result"
    }
   ],
   "source": [
    "spark.table(\"yay\").count()"
   ]
  },
  {
   "cell_type": "code",
   "execution_count": 4,
   "id": "8d78f377",
   "metadata": {},
   "outputs": [
    {
     "data": {
      "text/plain": [
       "38418708"
      ]
     },
     "execution_count": 4,
     "metadata": {},
     "output_type": "execute_result"
    }
   ],
   "source": [
    "spark.table(\"output\").count()"
   ]
  },
  {
   "cell_type": "code",
   "execution_count": 3,
   "id": "a6b6f77c",
   "metadata": {},
   "outputs": [],
   "source": [
    "(\n",
    "    spark.read\n",
    "    .parquet(\"s3://bsu-c535-fall2024-commons/arjun-workspace/linktarget/\")\n",
    "    .createOrReplaceTempView(\"linktarget\")\n",
    ")\n",
    "\n",
    "(\n",
    "    spark.read\n",
    "    .parquet(\"s3://bsu-c535-fall2024-commons/arjun-workspace/page/\")\n",
    "    .createOrReplaceTempView(\"page\")\n",
    ")\n",
    "\n",
    "(\n",
    "    spark.read\n",
    "    .parquet(\"s3://bsu-c535-fall2024-commons/arjun-workspace/pagelinks/\")\n",
    "    .createOrReplaceTempView(\"pagelinks\")\n",
    ")\n",
    "\n",
    "(\n",
    "    spark.read\n",
    "    .parquet(\"s3://bsu-c535-fall2024-commons/arjun-workspace/redirect/\")\n",
    "    .createOrReplaceTempView(\"redirect\")\n",
    ")"
   ]
  },
  {
   "cell_type": "code",
   "execution_count": 10,
   "id": "b51d26b9",
   "metadata": {},
   "outputs": [],
   "source": [
    "# connect pages and linktarget ids\n",
    "# (page_id | page_title | linktarget_id | redirect? | namespace)\n",
    "(\n",
    "    spark.table(\"page\")\n",
    "    .join(\n",
    "        spark.table(\"linktarget\"),\n",
    "        F.expr(\"lt_title = page_title and lt_namespace = page_namespace\"),\n",
    "        \"inner\"\n",
    "    )\n",
    "    .selectExpr(\"page_id\", \"page_title\", \"lt_id\", \"page_is_redirect as redirect\", \"page_namespace\")\n",
    "    .createOrReplaceTempView(\"page_with_link_ids\")\n",
    ")\n",
    "\n",
    "# connect redirect source pages with corresponding destination pages \n",
    "# (rd_src_page_id | rd_dst_dst_page_id | namespace)\n",
    "(\n",
    "    spark.table(\"page_with_link_ids\")\n",
    "    .filter(\"redirect = false\") # don't want redirects that link to redirects\n",
    "    .join(\n",
    "        spark.table(\"redirect\"),\n",
    "        F.expr(\"rd_title = page_title and rd_namespace = page_namespace\"),\n",
    "        \"inner\"\n",
    "    )\n",
    "    .selectExpr(\"rd_from\", \"page_id as rd_dst\", \"page_namespace as rd_namespace\")\n",
    "    .createOrReplaceTempView(\"redirect_pages\")\n",
    ")\n",
    "\n",
    "# connect the destination page of a redirect to the linktarget id of the redirect source,\n",
    "# this means pages that link to redirect linktarget ids in the pagelinks table will be linked\n",
    "# with the page id of the redirect destination rather than the source\n",
    "# (rd_dst_page_id | rd_src_linktarget_id | namespace)\n",
    "(\n",
    "    spark.table(\"page_with_link_ids\")\n",
    "    .filter(\"redirect = true\") # get all redirects\n",
    "    .join(\n",
    "        spark.table(\"redirect_pages\"),\n",
    "        F.expr(\"page_id = rd_from and page_namespace = rd_namespace\"),\n",
    "        \"inner\"\n",
    "    )\n",
    "    .selectExpr(\"rd_dst as page_id\", \"lt_id\", \"rd_namespace as page_namespace\")\n",
    "    .createOrReplaceTempView(\"redirect_with_link_ids\")\n",
    ")\n",
    "\n",
    "# union together non-redirects and redirects\n",
    "# (page_id | linktarget_id | namespace)\n",
    "# (rd_dst_page_id | rd_src_linktarget_id | namespace)\n",
    "(\n",
    "    spark.table(\"page_with_link_ids\")\n",
    "    .filter(\"redirect = false\") # non-redirects\n",
    "    .select(\"page_id\", \"lt_id\", \"page_namespace\")\n",
    "    .union(spark.table(\"redirect_with_link_ids\")) # redirects\n",
    "    .select(\"page_id\", \"lt_id\", \"page_namespace\")\n",
    "    .createOrReplaceTempView(\"all_pages_with_links\")\n",
    ")\n",
    "\n",
    "# get pagelinks from source to destination and create pairs\n",
    "(\n",
    "    spark.table(\"all_pages_with_links\")\n",
    "    .join(\n",
    "        spark.table(\"pagelinks\"),\n",
    "        F.expr(\"pl_target_id = lt_id and pl_from_namespace = page_namespace\"),\n",
    "        \"inner\"\n",
    "    )\n",
    "    .selectExpr(\"pl_from as page_a\", \"page_id as page_b\")\n",
    "    .filter(F.expr(\"page_a != page_b\")) # don't want pages that link to themselves\n",
    "    .withColumn(\"pair\", F.sort_array(F.array(F.col(\"page_a\"), F.col(\"page_b\")))) # get pairs\n",
    "    .repartition(\"pair\") # repartition to speed aggregation up\n",
    "    .groupBy(\"pair\") \n",
    "    .agg(F.count(\"*\").alias(\"count\"))\n",
    "    .filter(F.expr(\"count > 1\")) # get rows that are duplicated, those are the pairs we want\n",
    "    .withColumn(\"page_a\", F.col(\"pair\")[0]) # get page_a and page_b cols from pairs\n",
    "    .withColumn(\"page_b\", F.col(\"pair\")[1])\n",
    "    .drop(\"pair\") \n",
    "    .select(\"page_a\", \"page_b\")\n",
    "    .repartition(5) # repartition into 5 parquet files instead of a bunch of small ones\n",
    "#     .write.mode(\"OVERWRITE\").parquet(os.environ['PAGE_PAIRS_OUTPUT'])\n",
    "    .createOrReplaceTempView(\"final\")\n",
    ")"
   ]
  },
  {
   "cell_type": "code",
   "execution_count": 11,
   "id": "d2a0387d",
   "metadata": {},
   "outputs": [
    {
     "data": {
      "text/plain": [
       "192093553"
      ]
     },
     "execution_count": 11,
     "metadata": {},
     "output_type": "execute_result"
    }
   ],
   "source": [
    "spark.table(\"final\").count()"
   ]
  },
  {
   "cell_type": "markdown",
   "id": "95ae7792",
   "metadata": {},
   "source": [
    "## check with synthetic dataset"
   ]
  },
  {
   "cell_type": "code",
   "execution_count": 3,
   "id": "71549f60",
   "metadata": {},
   "outputs": [],
   "source": [
    "(\n",
    "    spark.read\n",
    "    .csv(\"s3://cpinney/synthetic/page.txt\",header=False)\n",
    "    .createOrReplaceTempView(\"p\")\n",
    ")\n",
    "\n",
    "(\n",
    "    spark.read\n",
    "    .csv(\"s3://cpinney/synthetic/linktarget.txt\",header=False)\n",
    "    .createOrReplaceTempView(\"lt\")\n",
    ")\n",
    "\n",
    "(\n",
    "    spark.read\n",
    "    .csv(\"s3://cpinney/synthetic/redirect.txt\",header=False)\n",
    "    .createOrReplaceTempView(\"rd\")\n",
    ")\n",
    "\n",
    "(\n",
    "    spark.read\n",
    "    .csv(\"s3://cpinney/synthetic/pagelinks.txt\",header=False)\n",
    "    .createOrReplaceTempView(\"pl\")\n",
    ")"
   ]
  },
  {
   "cell_type": "code",
   "execution_count": 6,
   "id": "928752bb",
   "metadata": {},
   "outputs": [],
   "source": [
    "(\n",
    "    spark.table(\"p\")\n",
    "    .withColumnRenamed(\"_c0\", \"page_id\")\n",
    "    .withColumnRenamed(\"_c1\", \"page_title\")\n",
    "    .withColumnRenamed(\"_c2\", \"page_namespace\")\n",
    "    .withColumnRenamed(\"_c3\", \"redirect\")\n",
    "    .createOrReplaceTempView(\"p\")\n",
    ")\n",
    "\n",
    "(\n",
    "    spark.table(\"lt\")\n",
    "    .withColumnRenamed(\"_c0\", \"lt_id\")\n",
    "    .withColumnRenamed(\"_c1\", \"lt_title\")\n",
    "    .withColumnRenamed(\"_c2\", \"lt_namespace\")\n",
    "    .createOrReplaceTempView(\"lt\")\n",
    ")\n",
    "\n",
    "(\n",
    "    spark.table(\"rd\")\n",
    "    .withColumnRenamed(\"_c0\", \"rd_from\")\n",
    "    .withColumnRenamed(\"_c1\", \"rd_title\")\n",
    "    .withColumnRenamed(\"_c2\", \"rd_namespace\")\n",
    "    .createOrReplaceTempView(\"rd\")\n",
    ")\n",
    "\n",
    "(\n",
    "    spark.table(\"pl\")\n",
    "    .withColumnRenamed(\"_c0\", \"pl_from\")\n",
    "    .withColumnRenamed(\"_c1\", \"pl_target_id\")\n",
    "    .createOrReplaceTempView(\"pl\")\n",
    ")"
   ]
  },
  {
   "cell_type": "code",
   "execution_count": 7,
   "id": "4560216e",
   "metadata": {},
   "outputs": [],
   "source": [
    "# connect pages and linktarget ids\n",
    "(\n",
    "    spark.table(\"p\")\n",
    "    .join(\n",
    "        spark.table(\"lt\"),\n",
    "        F.expr(\"lt_title = page_title and lt_namespace = page_namespace\"),\n",
    "        \"inner\"\n",
    "    )\n",
    "    .select(\"page_id\", \"page_title\", \"lt_id\", \"redirect\", \"page_namespace\")\n",
    "    .createOrReplaceTempView(\"new_p\")\n",
    ")\n",
    "\n",
    "# connect redirect src page_id with redirect dst page_id\n",
    "(\n",
    "    spark.table(\"new_p\")\n",
    "    .filter(\"redirect = false\") # don't want redirects that link to redirects\n",
    "    .join(\n",
    "        spark.table(\"rd\"),\n",
    "        F.expr(\"rd_title = page_title and rd_namespace = page_namespace\"),\n",
    "        \"inner\"\n",
    "    )\n",
    "    .selectExpr(\"rd_from\", \"page_id as rd_dst\")\n",
    "#     .filter(\"page_id != pid\")\n",
    "#     .drop(\"pid\")\n",
    "    .createOrReplaceTempView(\"new_rd\")\n",
    ")\n",
    "\n",
    "# connect page_id of redirect dst page_id to the linktarget id of the redirect src\n",
    "(\n",
    "    spark.table(\"new_p\")\n",
    "    .filter(\"redirect = true\")\n",
    "    .join(\n",
    "        spark.table(\"new_rd\"),\n",
    "        F.expr(\"page_id = rd_from\"),\n",
    "        \"inner\"\n",
    "    )\n",
    "    .selectExpr(\"rd_dst as page_id\", \"lt_id\")\n",
    "    .createOrReplaceTempView(\"prd\")\n",
    ")\n",
    "\n",
    "# union together all src page_ids to corresponding linktarget ids\n",
    "(\n",
    "    spark.table(\"new_p\")\n",
    "    .filter(\"redirect = false\")\n",
    "    .select(\"page_id\", \"lt_id\")\n",
    "    .union(spark.table(\"prd\"))\n",
    "    .select(\"page_id\", \"lt_id\")\n",
    "    .createOrReplaceTempView(\"p_w_l\")\n",
    ")\n",
    "\n",
    "# get pagelinks from src to dst and create pairs\n",
    "(\n",
    "    spark.table(\"p_w_l\")\n",
    "    .join(\n",
    "        spark.table(\"pl\"),\n",
    "        F.expr(\"pl_target_id = lt_id\"),\n",
    "        \"inner\"\n",
    "    )\n",
    "    .selectExpr(\"pl_from as page_a\", \"page_id as page_b\")\n",
    "    .filter(F.expr(\"page_a != page_b\"))\n",
    "    .withColumn(\"pair\", F.sort_array(F.array(F.col(\"page_a\"), F.col(\"page_b\"))))\n",
    "    .groupBy(\"pair\")\n",
    "    .agg(F.count(\"*\").alias(\"count\"))\n",
    "    .filter(F.expr(\"count > 1\"))\n",
    "    .withColumn(\"page_a\", F.col(\"pair\")[0])\n",
    "    .withColumn(\"page_b\", F.col(\"pair\")[1])\n",
    "    .drop(\"pair\")\n",
    "    .select(\"page_a\", \"page_b\")\n",
    "    .createOrReplaceTempView(\"final_s\")\n",
    ")"
   ]
  },
  {
   "cell_type": "code",
   "execution_count": 8,
   "id": "c9c09c13",
   "metadata": {},
   "outputs": [
    {
     "name": "stdout",
     "output_type": "stream",
     "text": [
      "+------+------+\n",
      "|page_a|page_b|\n",
      "+------+------+\n",
      "|     1|     2|\n",
      "|     2|     7|\n",
      "|     8|     9|\n",
      "+------+------+\n",
      "\n"
     ]
    }
   ],
   "source": [
    "spark.table(\"final_s\").show()"
   ]
  },
  {
   "cell_type": "code",
   "execution_count": null,
   "id": "8f0f503c",
   "metadata": {},
   "outputs": [],
   "source": []
  }
 ],
 "metadata": {
  "kernelspec": {
   "display_name": "Python 3 (ipykernel)",
   "language": "python",
   "name": "python3"
  },
  "language_info": {
   "codemirror_mode": {
    "name": "ipython",
    "version": 3
   },
   "file_extension": ".py",
   "mimetype": "text/x-python",
   "name": "python",
   "nbconvert_exporter": "python",
   "pygments_lexer": "ipython3",
   "version": "3.10.9"
  }
 },
 "nbformat": 4,
 "nbformat_minor": 5
}
