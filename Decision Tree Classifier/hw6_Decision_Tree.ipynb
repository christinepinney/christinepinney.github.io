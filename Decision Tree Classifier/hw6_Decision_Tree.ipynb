{
 "cells": [
  {
   "cell_type": "code",
   "execution_count": 1,
   "id": "652646df",
   "metadata": {},
   "outputs": [],
   "source": [
    "import numpy as np\n",
    "import pandas as pd\n",
    "from collections import Counter as ctr\n",
    "from sklearn.model_selection import train_test_split\n",
    "from sklearn.metrics import accuracy_score"
   ]
  },
  {
   "cell_type": "markdown",
   "id": "04f6cb38",
   "metadata": {},
   "source": [
    "## Get Data"
   ]
  },
  {
   "cell_type": "code",
   "execution_count": 2,
   "id": "81809c03",
   "metadata": {},
   "outputs": [
    {
     "data": {
      "text/html": [
       "<div>\n",
       "<style scoped>\n",
       "    .dataframe tbody tr th:only-of-type {\n",
       "        vertical-align: middle;\n",
       "    }\n",
       "\n",
       "    .dataframe tbody tr th {\n",
       "        vertical-align: top;\n",
       "    }\n",
       "\n",
       "    .dataframe thead th {\n",
       "        text-align: right;\n",
       "    }\n",
       "</style>\n",
       "<table border=\"1\" class=\"dataframe\">\n",
       "  <thead>\n",
       "    <tr style=\"text-align: right;\">\n",
       "      <th></th>\n",
       "      <th>Pregnancies</th>\n",
       "      <th>Glucose</th>\n",
       "      <th>BloodPressure</th>\n",
       "      <th>SkinThickness</th>\n",
       "      <th>Insulin</th>\n",
       "      <th>BMI</th>\n",
       "      <th>DiabetesPedigreeFunction</th>\n",
       "      <th>Age</th>\n",
       "      <th>Outcome</th>\n",
       "    </tr>\n",
       "  </thead>\n",
       "  <tbody>\n",
       "    <tr>\n",
       "      <th>3</th>\n",
       "      <td>1</td>\n",
       "      <td>89</td>\n",
       "      <td>66</td>\n",
       "      <td>23</td>\n",
       "      <td>94</td>\n",
       "      <td>28.1</td>\n",
       "      <td>0.167</td>\n",
       "      <td>21</td>\n",
       "      <td>0</td>\n",
       "    </tr>\n",
       "    <tr>\n",
       "      <th>4</th>\n",
       "      <td>0</td>\n",
       "      <td>137</td>\n",
       "      <td>40</td>\n",
       "      <td>35</td>\n",
       "      <td>168</td>\n",
       "      <td>43.1</td>\n",
       "      <td>2.288</td>\n",
       "      <td>33</td>\n",
       "      <td>1</td>\n",
       "    </tr>\n",
       "    <tr>\n",
       "      <th>6</th>\n",
       "      <td>3</td>\n",
       "      <td>78</td>\n",
       "      <td>50</td>\n",
       "      <td>32</td>\n",
       "      <td>88</td>\n",
       "      <td>31.0</td>\n",
       "      <td>0.248</td>\n",
       "      <td>26</td>\n",
       "      <td>1</td>\n",
       "    </tr>\n",
       "    <tr>\n",
       "      <th>8</th>\n",
       "      <td>2</td>\n",
       "      <td>197</td>\n",
       "      <td>70</td>\n",
       "      <td>45</td>\n",
       "      <td>543</td>\n",
       "      <td>30.5</td>\n",
       "      <td>0.158</td>\n",
       "      <td>53</td>\n",
       "      <td>1</td>\n",
       "    </tr>\n",
       "    <tr>\n",
       "      <th>13</th>\n",
       "      <td>1</td>\n",
       "      <td>189</td>\n",
       "      <td>60</td>\n",
       "      <td>23</td>\n",
       "      <td>846</td>\n",
       "      <td>30.1</td>\n",
       "      <td>0.398</td>\n",
       "      <td>59</td>\n",
       "      <td>1</td>\n",
       "    </tr>\n",
       "  </tbody>\n",
       "</table>\n",
       "</div>"
      ],
      "text/plain": [
       "    Pregnancies  Glucose  BloodPressure  SkinThickness  Insulin   BMI  \\\n",
       "3             1       89             66             23       94  28.1   \n",
       "4             0      137             40             35      168  43.1   \n",
       "6             3       78             50             32       88  31.0   \n",
       "8             2      197             70             45      543  30.5   \n",
       "13            1      189             60             23      846  30.1   \n",
       "\n",
       "    DiabetesPedigreeFunction  Age  Outcome  \n",
       "3                      0.167   21        0  \n",
       "4                      2.288   33        1  \n",
       "6                      0.248   26        1  \n",
       "8                      0.158   53        1  \n",
       "13                     0.398   59        1  "
      ]
     },
     "execution_count": 2,
     "metadata": {},
     "output_type": "execute_result"
    }
   ],
   "source": [
    "df = pd.read_csv(\"diabetes.csv\")\n",
    "df = df[(df[['Glucose', 'BloodPressure', 'SkinThickness', 'Insulin',\n",
    "       'BMI', 'DiabetesPedigreeFunction', 'Age']] != 0).all(axis=1)]\n",
    "df.head()"
   ]
  },
  {
   "cell_type": "markdown",
   "id": "4779e7bd",
   "metadata": {},
   "source": [
    "## Node Class"
   ]
  },
  {
   "cell_type": "code",
   "execution_count": 3,
   "id": "e70cbf8c",
   "metadata": {},
   "outputs": [],
   "source": [
    "class Node():\n",
    "    '''Class to define a node in a decision tree'''\n",
    "    \n",
    "    # constructor\n",
    "    def __init__(self, feature=None, threshold=None, l_child=None, r_child=None, info_gain=None, value=None):\n",
    "    \n",
    "        # instance variables\n",
    "        self.feature = feature\n",
    "        self.threshold = threshold\n",
    "        self.l_child = l_child\n",
    "        self.r_child = r_child\n",
    "        self.info_gain = info_gain\n",
    "        # for leaf node\n",
    "        self.value = value"
   ]
  },
  {
   "cell_type": "markdown",
   "id": "d4accd95",
   "metadata": {},
   "source": [
    "## Entropy & Information Gain Functions"
   ]
  },
  {
   "cell_type": "markdown",
   "id": "47d056d0",
   "metadata": {},
   "source": [
    "**function to find entropy**"
   ]
  },
  {
   "cell_type": "code",
   "execution_count": 4,
   "id": "25336a4a",
   "metadata": {},
   "outputs": [],
   "source": [
    "def entropy(c):\n",
    "    \n",
    "    counts = np.bincount(c)\n",
    "    percents = counts / len(c)\n",
    "    \n",
    "    entropy = 0\n",
    "    for p in percents:\n",
    "        if p > 0:\n",
    "            entropy += p * np.log2(p)\n",
    "    \n",
    "    return -entropy"
   ]
  },
  {
   "cell_type": "markdown",
   "id": "2da6f331",
   "metadata": {},
   "source": [
    "**function to find information gain**"
   ]
  },
  {
   "cell_type": "code",
   "execution_count": 5,
   "id": "a1f891c2",
   "metadata": {},
   "outputs": [],
   "source": [
    "def info_gain(parent, l_child, r_child):\n",
    "    \n",
    "    left = len(l_child) / len(parent)\n",
    "    right = len(r_child) / len(parent)\n",
    "    \n",
    "    gain = entropy(parent) - (left * entropy(l_child) + right * entropy(r_child))\n",
    "    \n",
    "    return gain"
   ]
  },
  {
   "cell_type": "markdown",
   "id": "57bf54f7",
   "metadata": {},
   "source": [
    "## Decision Tree Class"
   ]
  },
  {
   "cell_type": "code",
   "execution_count": 93,
   "id": "2008ac5e",
   "metadata": {},
   "outputs": [],
   "source": [
    "class DTClassifier:\n",
    "    '''Class implements decision tree classifier algo'''\n",
    "    \n",
    "    def __init__(self, min_samp_split=5, max_depth=10):\n",
    "        '''Constructor'''\n",
    "    \n",
    "        # initialize root node\n",
    "        self.root = None\n",
    "        # stopping criterion\n",
    "        self.min_samp_split = min_samp_split\n",
    "        self.max_depth = max_depth\n",
    "    \n",
    "    def best_split(self, features, label):\n",
    "        '''Find the best split'''\n",
    "        \n",
    "        best_split = {}\n",
    "        best_ig = -1\n",
    "        num_rows, num_cols = features.shape\n",
    "        \n",
    "        # for every feature in dataset\n",
    "        for feat in range(num_cols):\n",
    "            curr_feat = features[:, feat]\n",
    "            \n",
    "            # for every unique value in feature set\n",
    "            for thresh in np.unique(curr_feat):\n",
    "                df = df.concatenate((features, label.reshape(1, -1).T), axis=1)\n",
    "                left_tree = np.array([row for row in df if row[feat] <= thresh])\n",
    "                right_tree = np.array([row for row in df if row[feat] > thresh])\n",
    "                \n",
    "                # if there is data in both left and right dataset, do info gain calculations\n",
    "                if (len(df_left) > 0 and len(df_right) > 0):\n",
    "                    # get values from each subset\n",
    "                    parent = df[:, -1]\n",
    "                    l_child = left_tree[:, -1]\n",
    "                    r_child = right_tree[:, -1]\n",
    "                    \n",
    "                    # calculate info gain and save split parameters if this split is better than previous split\n",
    "                    gain = self.info_gain(parent, l_child, r_child)\n",
    "                    if (gain > best_info_gain):\n",
    "                        best_split = {\n",
    "                            'feature' : feat,\n",
    "                            'thresh' : thresh,\n",
    "                            'left_tree' : left_tree,\n",
    "                            'right_tree' : right_tree,\n",
    "                            'gain' : gain\n",
    "                        }\n",
    "                        best_info_gain = gain\n",
    "                \n",
    "        return best_split\n",
    "        \n",
    "    def build_tree(self, features, label, depth=0):\n",
    "        '''Recursive function to build tree'''\n",
    "        \n",
    "        num_rows = features.shape[0]\n",
    "        num_cols = len(features)\n",
    "        \n",
    "        # make sure current node isn't leaf\n",
    "        if num_rows >= self.min_samp_split and num_cols <= self.max_depth:\n",
    "            # get best split\n",
    "            A1_split = self.best_split(features, label)\n",
    "            # if split is impure\n",
    "            if A1_split['gain'] > 0:\n",
    "                # build tree on left\n",
    "                left = self.build_tree(\n",
    "                    features = A1_split['left_tree'][:, :-1],\n",
    "                    label = A1_split['left_tree'][:, -1],\n",
    "                    depth = depth + 1\n",
    "                )\n",
    "                # build tree on right\n",
    "                right = self.build_tree(\n",
    "                    features = A1_split['right_tree'][:, :-1],\n",
    "                    label = A1_split['right_tree'][:, -1],\n",
    "                    depth = depth + 1\n",
    "                )\n",
    "                return Node (\n",
    "                    feature = A1_split['feature'],\n",
    "                    thresh = A1_split['thresh'],\n",
    "                    l_tree = left,\n",
    "                    r_tree = right,\n",
    "                    gain = A1_split['gain']\n",
    "                )\n",
    "        # leaf node, where value is the most common label count\n",
    "        return Node(\n",
    "            value = ctr(label).most_common(1)[0][0]\n",
    "        )\n",
    "    \n",
    "    def fit(self, features, label):\n",
    "        '''Recursively build tree from root'''\n",
    "        \n",
    "        self.root = self.build_tree(features, label)\n",
    "        \n",
    "    def tree_traversal(self, observation, tree):\n",
    "        '''Traverse tree to predict single data instance'''\n",
    "        \n",
    "        # if leaf node\n",
    "        if tree.value != None:\n",
    "            return tree.value\n",
    "        feat_value = observation[tree.feature]\n",
    "        \n",
    "        # go left\n",
    "        if feat_value <= tree.thresh:\n",
    "            return self.tree_traversal(observation=observation, tree=tree.l_tree)\n",
    "        \n",
    "        # go right\n",
    "        if feat_value > tree.thresh:\n",
    "            return self.tree_traversal(observation=observation, tree=tree.r_tree)\n",
    "        \n",
    "    def predict(self, feature):\n",
    "        '''Classify new instances'''\n",
    "        \n",
    "        return [self.tree_traversal(feat, self.root) for feat in feature]"
   ]
  },
  {
   "cell_type": "markdown",
   "id": "5b9253cb",
   "metadata": {},
   "source": [
    "## Evaluate Decision Tree Classifier"
   ]
  },
  {
   "cell_type": "code",
   "execution_count": 94,
   "id": "918857ca",
   "metadata": {},
   "outputs": [],
   "source": [
    "X = np.array([[df.Pregnancies, df.Glucose, df.BloodPressure, df.SkinThickness, df.Insulin,\n",
    "       df.BMI, df.DiabetesPedigreeFunction, df.Age]])\n",
    "y = df.Outcome\n",
    "X = X.transpose()"
   ]
  },
  {
   "cell_type": "code",
   "execution_count": 95,
   "id": "5fc67861",
   "metadata": {},
   "outputs": [],
   "source": [
    "X_train, X_test, y_train, y_test = train_test_split(X, y, test_size=0.2, random_state=42)"
   ]
  },
  {
   "cell_type": "code",
   "execution_count": 96,
   "id": "1232feac",
   "metadata": {},
   "outputs": [],
   "source": [
    "model = DTClassifier()\n",
    "model.fit(X_train, y_train)\n",
    "preds = model.predict(X_test)"
   ]
  },
  {
   "cell_type": "code",
   "execution_count": 98,
   "id": "bbbe9b56",
   "metadata": {},
   "outputs": [
    {
     "data": {
      "text/plain": [
       "0.6582278481012658"
      ]
     },
     "execution_count": 98,
     "metadata": {},
     "output_type": "execute_result"
    }
   ],
   "source": [
    "accuracy_score(y_test, preds)"
   ]
  },
  {
   "cell_type": "code",
   "execution_count": null,
   "id": "ffe0babe",
   "metadata": {},
   "outputs": [],
   "source": []
  }
 ],
 "metadata": {
  "kernelspec": {
   "display_name": "Python 3 (ipykernel)",
   "language": "python",
   "name": "python3"
  },
  "language_info": {
   "codemirror_mode": {
    "name": "ipython",
    "version": 3
   },
   "file_extension": ".py",
   "mimetype": "text/x-python",
   "name": "python",
   "nbconvert_exporter": "python",
   "pygments_lexer": "ipython3",
   "version": "3.9.7"
  }
 },
 "nbformat": 4,
 "nbformat_minor": 5
}
