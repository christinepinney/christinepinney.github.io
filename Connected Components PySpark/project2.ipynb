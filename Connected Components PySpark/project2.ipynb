{
 "cells": [
  {
   "cell_type": "code",
   "execution_count": 1,
   "id": "6899c21c",
   "metadata": {},
   "outputs": [],
   "source": [
    "import pyspark\n",
    "from pyspark.sql import (\n",
    "    SparkSession,\n",
    "    functions as F,\n",
    "    types as T\n",
    ")"
   ]
  },
  {
   "cell_type": "code",
   "execution_count": 2,
   "id": "58fc8474",
   "metadata": {},
   "outputs": [],
   "source": [
    "spark = (\n",
    "    SparkSession.builder\n",
    "    .remote('sc://localhost:15002')\n",
    "    .appName(\"p1_app\")\n",
    "    .getOrCreate()\n",
    ")"
   ]
  },
  {
   "cell_type": "code",
   "execution_count": 3,
   "id": "a6b6f77c",
   "metadata": {},
   "outputs": [],
   "source": [
    "(\n",
    "    spark.read\n",
    "    .parquet(\"s3://bsu-c535-fall2024-commons/arjun-workspace/linktarget/\")\n",
    "    .createOrReplaceTempView(\"linktarget\")\n",
    ")\n",
    "\n",
    "(\n",
    "    spark.read\n",
    "    .parquet(\"s3://bsu-c535-fall2024-commons/arjun-workspace/page/\")\n",
    "    .createOrReplaceTempView(\"page\")\n",
    ")\n",
    "\n",
    "(\n",
    "    spark.read\n",
    "    .parquet(\"s3://bsu-c535-fall2024-commons/arjun-workspace/pagelinks/\")\n",
    "    .createOrReplaceTempView(\"pagelinks\")\n",
    ")\n",
    "\n",
    "(\n",
    "    spark.read\n",
    "    .parquet(\"s3://bsu-c535-fall2024-commons/arjun-workspace/redirect/\")\n",
    "    .createOrReplaceTempView(\"redirect\")\n",
    ")"
   ]
  },
  {
   "cell_type": "markdown",
   "id": "cf4f7797",
   "metadata": {},
   "source": [
    "## Mutual Link Pairs"
   ]
  },
  {
   "cell_type": "code",
   "execution_count": 4,
   "id": "b51d26b9",
   "metadata": {},
   "outputs": [],
   "source": [
    "# connect pages and linktarget ids\n",
    "# (page_id | page_title | linktarget_id | redirect? | namespace)\n",
    "(\n",
    "    spark.table(\"page\").filter(\"page_namespace = 0\")\n",
    "    .join(\n",
    "        spark.table(\"linktarget\").filter(\"lt_namespace = 0\"),\n",
    "        F.expr(\"lt_title = page_title\"),\n",
    "        \"inner\"\n",
    "    )\n",
    "    .selectExpr(\"page_id\", \"page_title\", \"lt_id\", \"page_is_redirect as redirect\")\n",
    "    .createOrReplaceTempView(\"page_with_link_ids\")\n",
    ")\n",
    "\n",
    "# connect redirect source pages with corresponding destination pages \n",
    "# (rd_src_page_id | rd_dst_dst_page_id | namespace)\n",
    "(\n",
    "    spark.table(\"page_with_link_ids\")\n",
    "    .filter(\"redirect = false\") # don't want redirects that link to redirects\n",
    "    .join(\n",
    "        spark.table(\"redirect\").filter(\"rd_namespace = 0\"),\n",
    "        F.expr(\"rd_title = page_title\"),\n",
    "        \"inner\"\n",
    "    )\n",
    "    .selectExpr(\"rd_from\", \"page_id as rd_dst\")\n",
    "    .createOrReplaceTempView(\"redirect_pages\")\n",
    ")\n",
    "\n",
    "# connect the destination page of a redirect to the linktarget id of the redirect source,\n",
    "# this means pages that link to redirect linktarget ids in the pagelinks table will be linked\n",
    "# with the page id of the redirect destination rather than the source\n",
    "# (rd_dst_page_id | rd_src_linktarget_id | namespace)\n",
    "(\n",
    "    spark.table(\"page_with_link_ids\")\n",
    "    .filter(\"redirect = true\") # get all redirects\n",
    "    .join(\n",
    "        spark.table(\"redirect_pages\"),\n",
    "        F.expr(\"page_id = rd_from\"),\n",
    "        \"inner\"\n",
    "    )\n",
    "    .selectExpr(\"rd_dst as page_id\", \"lt_id\")\n",
    "    .createOrReplaceTempView(\"redirect_with_link_ids\")\n",
    ")\n",
    "\n",
    "# union together non-redirects and redirects\n",
    "# (page_id | linktarget_id | namespace)\n",
    "# (rd_dst_page_id | rd_src_linktarget_id | namespace)\n",
    "(\n",
    "    spark.table(\"page_with_link_ids\")\n",
    "    .filter(\"redirect = false\") # non-redirects\n",
    "    .select(\"page_id\", \"lt_id\")\n",
    "    .union(spark.table(\"redirect_with_link_ids\")) # redirects\n",
    "    .select(\"page_id\", \"lt_id\")\n",
    "    .createOrReplaceTempView(\"all_pages_with_links\")\n",
    ")\n",
    "\n",
    "# get pagelinks from source to destination and create pairs\n",
    "(\n",
    "    spark.table(\"all_pages_with_links\")\n",
    "    .join(\n",
    "        spark.table(\"pagelinks\").filter(\"pl_from_namespace = 0\"),\n",
    "        F.expr(\"pl_target_id = lt_id\"),\n",
    "        \"inner\"\n",
    "    )\n",
    "    .selectExpr(\"pl_from\", \"page_id\")\n",
    "    .selectExpr(\n",
    "        \"greatest(pl_from, page_id) as page_a\",\n",
    "        \"least(pl_from, page_id) as page_b\",\n",
    "        \"pl_from > page_id as direction\"\n",
    "    )\n",
    "    .filter(\"page_a != page_b\")\n",
    "    .groupby(\"page_a\", \"page_b\")\n",
    "    .agg(\n",
    "        F.expr(\"bool_or(direction) as a_to_b\"),\n",
    "        F.expr(\"bool_or(not direction) as b_to_a\")\n",
    "    )\n",
    "    .filter(\"a_to_b and b_to_a\")\n",
    "    .drop(\"direction\")\n",
    "    .drop(\"a_to_b\")\n",
    "    .drop(\"b_to_a\")\n",
    "    .select(\"page_a\", \"page_b\")\n",
    "    .createOrReplaceTempView(\"final\")\n",
    ")"
   ]
  },
  {
   "cell_type": "code",
   "execution_count": 5,
   "id": "0775307e",
   "metadata": {},
   "outputs": [
    {
     "data": {
      "text/plain": [
       "174438855"
      ]
     },
     "execution_count": 5,
     "metadata": {},
     "output_type": "execute_result"
    }
   ],
   "source": [
    "spark.table(\"final\").count()"
   ]
  },
  {
   "cell_type": "code",
   "execution_count": 11,
   "id": "d2a0387d",
   "metadata": {},
   "outputs": [
    {
     "data": {
      "text/plain": [
       "192093553"
      ]
     },
     "execution_count": 11,
     "metadata": {},
     "output_type": "execute_result"
    }
   ],
   "source": [
    "spark.table(\"final\").count()"
   ]
  },
  {
   "cell_type": "markdown",
   "id": "ee0b3cc7",
   "metadata": {},
   "source": [
    "## Connected Components"
   ]
  },
  {
   "cell_type": "code",
   "execution_count": null,
   "id": "7e477eef",
   "metadata": {},
   "outputs": [],
   "source": []
  }
 ],
 "metadata": {
  "kernelspec": {
   "display_name": "Python 3 (ipykernel)",
   "language": "python",
   "name": "python3"
  },
  "language_info": {
   "codemirror_mode": {
    "name": "ipython",
    "version": 3
   },
   "file_extension": ".py",
   "mimetype": "text/x-python",
   "name": "python",
   "nbconvert_exporter": "python",
   "pygments_lexer": "ipython3",
   "version": "3.10.9"
  }
 },
 "nbformat": 4,
 "nbformat_minor": 5
}
